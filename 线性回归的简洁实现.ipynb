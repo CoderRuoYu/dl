{
 "cells": [
  {
   "cell_type": "raw",
   "id": "f0c80d6f-b988-4d1f-ae72-c8e4eeed07f3",
   "metadata": {},
   "source": [
    "# 线性回归的简洁实现"
   ]
  },
  {
   "cell_type": "code",
   "execution_count": 9,
   "id": "f8d60ad2-9aeb-457c-83ab-da8bb1b1ec31",
   "metadata": {},
   "outputs": [],
   "source": [
    "import numpy as np\n",
    "import torch\n",
    "# pytorch中用于处理数据加载和预处理模块\n",
    "from torch.utils import data\n",
    "from d2l import torch as d2l"
   ]
  },
  {
   "cell_type": "code",
   "execution_count": 10,
   "id": "33221085-591c-4a15-a46d-7d2ec3d87157",
   "metadata": {},
   "outputs": [],
   "source": [
    "# 生成数据集\n",
    "true_w = torch.tensor([2,-3.4])\n",
    "true_b = 4.2\n",
    "# d2l获取数据模块，获取1000个\n",
    "features,labels = d2l.synthetic_data(true_w, true_b, 1000)"
   ]
  },
  {
   "cell_type": "code",
   "execution_count": 16,
   "id": "fdbd64fe-1d1a-4e81-bd27-9b656e4247ea",
   "metadata": {},
   "outputs": [],
   "source": [
    "#TensorDataset 用法\n",
    "#features = torch.tensor([[1, 2], [3, 4], [5, 6]])\n",
    "#labels = torch.tensor([0, 1, 0])\n",
    "#dataset = data.TensorDataset(features,labels)\n",
    "#print(dataset[1:3])"
   ]
  },
  {
   "cell_type": "code",
   "execution_count": 19,
   "id": "fb910381-f1c9-4836-94c8-1f71c1e3bf1b",
   "metadata": {},
   "outputs": [],
   "source": [
    "# 读取数据集\n",
    "# is_train=True表示希望数据迭代器对象在每个迭代周期内打乱数据\n",
    "def load_array(data_arrays,batch_size,is_train=True):\n",
    "    #打包数据，使特征和标签对应\n",
    "    dataset = data.TensorDataset(*data_arrays)\n",
    "    #返回一批数据的特征和标签，为一个可迭代对象\n",
    "    return data.DataLoader(dataset,batch_size,shuffle=is_train)\n",
    "batch_size=10\n",
    "data_iter = load_array((features,labels),batch_size)"
   ]
  },
  {
   "cell_type": "code",
   "execution_count": 34,
   "id": "0ca02193-c355-49bb-85cc-21ada5cd35e1",
   "metadata": {},
   "outputs": [],
   "source": [
    "# 可迭代对象转换为迭代器,通过next来一次访问\n",
    "#next(iter(data_iter))\n"
   ]
  },
  {
   "cell_type": "code",
   "execution_count": 35,
   "id": "3021be5f-0a55-4336-9466-75b6f44952f2",
   "metadata": {},
   "outputs": [
    {
     "data": {
      "text/plain": [
       "tensor([0.])"
      ]
     },
     "execution_count": 35,
     "metadata": {},
     "output_type": "execute_result"
    }
   ],
   "source": [
    "# 定义模型\n",
    "# nn是神经网络的缩写\n",
    "from torch import nn\n",
    "# 创建一个神经网络模型，只包含一个线性层\n",
    "net = nn.Sequential(nn.Linear(2, 1))\n",
    "# net[0]：访问第一层网络\n",
    "# weight：访问权重\n",
    "# data：访问数据\n",
    "# normal_进行填充数据\n",
    "# bias：访问偏置\n",
    "# fill_:原地填充为0\n",
    "net[0].weight.data.normal_(0, 0.01)\n",
    "net[0].bias.data.fill_(0)"
   ]
  },
  {
   "cell_type": "code",
   "execution_count": 36,
   "id": "8c910147-0933-49f5-8627-b011b25b6281",
   "metadata": {},
   "outputs": [],
   "source": [
    "# 定义损失函数\n",
    "# 函数取别名\n",
    "#loss(y_pred, y_true)预测值，真实值\n",
    "loss = nn.MSELoss()"
   ]
  },
  {
   "cell_type": "code",
   "execution_count": 37,
   "id": "46e052f1-800f-4323-87ef-f731a114b3a2",
   "metadata": {},
   "outputs": [],
   "source": [
    "# 定义优化函数\n",
    "# net.parameters()获取神经网络模型中所有可学习参数的方法。\n",
    "#这些可学习参数通常包括权重和偏置参数，它们在模型训练过程中会根据损失函数和梯度下降算法\n",
    "#进行更新。\n",
    "trainer = torch.optim.SGD(net.parameters(), lr=0.03)\n",
    "# 指定学习率"
   ]
  },
  {
   "cell_type": "code",
   "execution_count": 41,
   "id": "94c31f42-3beb-44aa-a869-e7563fb69cf3",
   "metadata": {},
   "outputs": [
    {
     "name": "stdout",
     "output_type": "stream",
     "text": [
      "epoch 1, loss 0.000105\n",
      "epoch 2, loss 0.000104\n",
      "epoch 3, loss 0.000104\n"
     ]
    }
   ],
   "source": [
    "# 训练模型\n",
    "num_epochs = 3\n",
    "for epoch in range(num_epochs):\n",
    "    for X,y in data_iter:\n",
    "        # net(X)进行向前传播，并生成模型输出\n",
    "        l = loss(net(X),y)\n",
    "        trainer.zero_grad()\n",
    "        l.backward()\n",
    "        #进行梯度下降更新\n",
    "        trainer.step()\n",
    "    l = loss(net(features), labels)\n",
    "    print(f'epoch {epoch + 1}, loss {l:f}')"
   ]
  },
  {
   "cell_type": "code",
   "execution_count": 42,
   "id": "433b0988-2f99-4b71-8967-bda661da3be8",
   "metadata": {},
   "outputs": [
    {
     "name": "stdout",
     "output_type": "stream",
     "text": [
      "w的估计误差： tensor([0.0004, 0.0004])\n",
      "b的估计误差： tensor([0.0004])\n"
     ]
    }
   ],
   "source": [
    "w = net[0].weight.data\n",
    "print('w的估计误差：', true_w - w.reshape(true_w.shape))\n",
    "b = net[0].bias.data\n",
    "print('b的估计误差：', true_b - b)"
   ]
  },
  {
   "cell_type": "code",
   "execution_count": null,
   "id": "7d0da050-4a38-48b3-8af0-69cfeecb1135",
   "metadata": {},
   "outputs": [],
   "source": []
  }
 ],
 "metadata": {
  "kernelspec": {
   "display_name": "dl",
   "language": "python",
   "name": "dl"
  },
  "language_info": {
   "codemirror_mode": {
    "name": "ipython",
    "version": 3
   },
   "file_extension": ".py",
   "mimetype": "text/x-python",
   "name": "python",
   "nbconvert_exporter": "python",
   "pygments_lexer": "ipython3",
   "version": "3.8.18"
  }
 },
 "nbformat": 4,
 "nbformat_minor": 5
}
