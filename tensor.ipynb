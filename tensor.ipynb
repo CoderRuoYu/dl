{
 "cells": [
  {
   "cell_type": "markdown",
   "id": "aa712f6c-268f-4850-8c78-75d2a2216bdb",
   "metadata": {},
   "source": [
    "# 创建Tensor"
   ]
  },
  {
   "cell_type": "code",
   "execution_count": 1,
   "id": "9766d4a9-0539-45ca-8cc1-a7166a961775",
   "metadata": {
    "tags": []
   },
   "outputs": [],
   "source": [
    "import torch"
   ]
  },
  {
   "cell_type": "markdown",
   "id": "9f89f9a8-0147-4fe7-828a-e9ffa77d61b2",
   "metadata": {},
   "source": [
    "创建一个5*3的未初始化的Tensor"
   ]
  },
  {
   "cell_type": "code",
   "execution_count": 3,
   "id": "e93e4709-7020-4174-b499-2240212580d8",
   "metadata": {
    "tags": []
   },
   "outputs": [
    {
     "name": "stdout",
     "output_type": "stream",
     "text": [
      "tensor([[-2.4773e+27,  2.0697e-42,  0.0000e+00],\n",
      "        [ 0.0000e+00,  0.0000e+00,  0.0000e+00],\n",
      "        [ 0.0000e+00,  0.0000e+00,  0.0000e+00],\n",
      "        [ 0.0000e+00,  0.0000e+00,  0.0000e+00],\n",
      "        [ 0.0000e+00,  0.0000e+00,  0.0000e+00]])\n"
     ]
    }
   ],
   "source": [
    "x = torch.empty(5,3)\n",
    "print(x)"
   ]
  },
  {
   "cell_type": "markdown",
   "id": "90055041-3aef-46ae-94c7-be890e4828b2",
   "metadata": {},
   "source": [
    "创建一2个5*3的随机初始化的Tensor"
   ]
  },
  {
   "cell_type": "code",
   "execution_count": 4,
   "id": "f5a433e6-e1a3-4be5-b94c-b19a447126e3",
   "metadata": {
    "tags": []
   },
   "outputs": [
    {
     "name": "stdout",
     "output_type": "stream",
     "text": [
      "tensor([[0.9344, 0.0494, 0.7964],\n",
      "        [0.6983, 0.1218, 0.0757],\n",
      "        [0.4907, 0.8961, 0.1031],\n",
      "        [0.9850, 0.5103, 0.6336],\n",
      "        [0.2758, 0.1022, 0.7983]])\n"
     ]
    }
   ],
   "source": [
    "x = torch.rand(5,3)\n",
    "print(x)"
   ]
  },
  {
   "cell_type": "markdown",
   "id": "7e16e279-7bea-4a06-b202-88bdb795205f",
   "metadata": {},
   "source": [
    "创建一个5*3的long型全0的Tensor"
   ]
  },
  {
   "cell_type": "code",
   "execution_count": 9,
   "id": "ea5cf4e6-5cbb-40bc-9401-17c52df790c3",
   "metadata": {
    "tags": []
   },
   "outputs": [
    {
     "name": "stdout",
     "output_type": "stream",
     "text": [
      "tensor([[0, 0, 0],\n",
      "        [0, 0, 0],\n",
      "        [0, 0, 0],\n",
      "        [0, 0, 0],\n",
      "        [0, 0, 0]])\n"
     ]
    }
   ],
   "source": [
    "x = torch.zeros(5,3,dtype=torch.long)\n",
    "print(x)"
   ]
  },
  {
   "cell_type": "markdown",
   "id": "4b54f094-01b4-4957-af80-04758b645d4b",
   "metadata": {},
   "source": [
    "根据现有的数据创建tensor"
   ]
  },
  {
   "cell_type": "code",
   "execution_count": 16,
   "id": "9d6622d1-e239-4421-a913-f94c00836dc5",
   "metadata": {
    "tags": []
   },
   "outputs": [
    {
     "name": "stdout",
     "output_type": "stream",
     "text": [
      "tensor([[5.5000, 3.0000],\n",
      "        [6.8000, 9.8000]])\n",
      "tensor(3.)\n"
     ]
    }
   ],
   "source": [
    "x = torch.tensor([[5.5,3],[6.8,9.8]])\n",
    "print(x)\n",
    "print(x[0][1])"
   ]
  },
  {
   "cell_type": "markdown",
   "id": "472c4ff9-7149-43b5-a166-08e58bdd839a",
   "metadata": {
    "tags": []
   },
   "source": [
    "根据现有的tensor来创建，会默认使用一些原有数据的属性，如数据类型，除非是自定义的"
   ]
  },
  {
   "cell_type": "code",
   "execution_count": 18,
   "id": "5f66df26-451d-485c-8e6c-3b5f48c8b604",
   "metadata": {
    "tags": []
   },
   "outputs": [
    {
     "name": "stdout",
     "output_type": "stream",
     "text": [
      "tensor([[1.]])\n"
     ]
    }
   ],
   "source": [
    "x = x.new_ones(1,1)\n",
    "print(x)"
   ]
  },
  {
   "cell_type": "code",
   "execution_count": 23,
   "id": "a6dcf6fd-0d89-490e-9009-3f72144faf5c",
   "metadata": {
    "tags": []
   },
   "outputs": [
    {
     "name": "stdout",
     "output_type": "stream",
     "text": [
      "tensor([[0.2084]], dtype=torch.float64)\n"
     ]
    }
   ],
   "source": [
    "x = torch.randn_like(x,dtype = torch.float64)\n",
    "print(x)"
   ]
  },
  {
   "cell_type": "markdown",
   "id": "c99bc97a-b47f-464c-b337-fe216ff3b35c",
   "metadata": {},
   "source": [
    "获得tensor的形状"
   ]
  },
  {
   "cell_type": "code",
   "execution_count": 26,
   "id": "3a6d7660-c197-4562-a29f-857e410cfab1",
   "metadata": {
    "tags": []
   },
   "outputs": [
    {
     "name": "stdout",
     "output_type": "stream",
     "text": [
      "torch.Size([1, 1])\n"
     ]
    }
   ],
   "source": [
    "print(x.shape)"
   ]
  },
  {
   "cell_type": "code",
   "execution_count": 28,
   "id": "2b786a0d-b006-4d5a-808c-c935d1daed35",
   "metadata": {
    "tags": []
   },
   "outputs": [
    {
     "name": "stdout",
     "output_type": "stream",
     "text": [
      "torch.Size([1, 1])\n"
     ]
    }
   ],
   "source": [
    "print(x.size())"
   ]
  },
  {
   "cell_type": "markdown",
   "id": "585a1ba4-f841-494d-a93e-18386fd156d6",
   "metadata": {},
   "source": [
    "# 算数操作"
   ]
  },
  {
   "cell_type": "code",
   "execution_count": 1,
   "id": "912f2c2f-18d1-4167-914c-ca3c81f1b787",
   "metadata": {
    "tags": []
   },
   "outputs": [],
   "source": [
    "import torch"
   ]
  },
  {
   "cell_type": "markdown",
   "id": "f0337ebb-8011-4957-9ef7-1695bbbe5bd0",
   "metadata": {
    "tags": []
   },
   "source": [
    "加法形式一"
   ]
  },
  {
   "cell_type": "code",
   "execution_count": 2,
   "id": "f7f0ce65-ca9f-4ef9-8548-d020c1d2f70a",
   "metadata": {
    "tags": []
   },
   "outputs": [
    {
     "name": "stdout",
     "output_type": "stream",
     "text": [
      "tensor([[0., 0., 0.],\n",
      "        [0., 0., 0.],\n",
      "        [0., 0., 0.],\n",
      "        [0., 0., 0.],\n",
      "        [0., 0., 0.]])\n"
     ]
    }
   ],
   "source": [
    "x = torch.zeros(5,3)\n",
    "print(x)"
   ]
  },
  {
   "cell_type": "code",
   "execution_count": 3,
   "id": "9519f8be-420b-4a79-885a-ddddc0866158",
   "metadata": {
    "tags": []
   },
   "outputs": [
    {
     "name": "stdout",
     "output_type": "stream",
     "text": [
      "tensor([[1., 1., 1.],\n",
      "        [1., 1., 1.],\n",
      "        [1., 1., 1.],\n",
      "        [1., 1., 1.],\n",
      "        [1., 1., 1.]])\n"
     ]
    }
   ],
   "source": [
    "print(torch.exp(x))"
   ]
  },
  {
   "cell_type": "code",
   "execution_count": 4,
   "id": "d5640f9a-690f-4ed8-8979-435ec6a4b0fc",
   "metadata": {
    "tags": []
   },
   "outputs": [
    {
     "name": "stdout",
     "output_type": "stream",
     "text": [
      "tensor([[0.0419, 0.4291, 0.2660],\n",
      "        [0.3619, 0.6151, 0.2311],\n",
      "        [0.1060, 0.9407, 0.4304],\n",
      "        [0.5925, 0.1019, 0.6672],\n",
      "        [0.5731, 0.1996, 0.9875]])\n",
      "tensor([[0.0419, 0.4291, 0.2660],\n",
      "        [0.3619, 0.6151, 0.2311],\n",
      "        [0.1060, 0.9407, 0.4304],\n",
      "        [0.5925, 0.1019, 0.6672],\n",
      "        [0.5731, 0.1996, 0.9875]])\n"
     ]
    }
   ],
   "source": [
    "y = torch.rand(5,3)\n",
    "print(y)\n",
    "print(x+y)"
   ]
  },
  {
   "cell_type": "markdown",
   "id": "2de74681-1aae-49ff-9812-93f7704bac6f",
   "metadata": {},
   "source": [
    "加法形式二"
   ]
  },
  {
   "cell_type": "code",
   "execution_count": 5,
   "id": "1cecd8a4-7f25-43c4-bcd5-071f399fc4de",
   "metadata": {
    "tags": []
   },
   "outputs": [
    {
     "name": "stdout",
     "output_type": "stream",
     "text": [
      "tensor([[0.0419, 0.4291, 0.2660],\n",
      "        [0.3619, 0.6151, 0.2311],\n",
      "        [0.1060, 0.9407, 0.4304],\n",
      "        [0.5925, 0.1019, 0.6672],\n",
      "        [0.5731, 0.1996, 0.9875]])\n"
     ]
    }
   ],
   "source": [
    "print(x.add(y))"
   ]
  },
  {
   "cell_type": "code",
   "execution_count": 6,
   "id": "7e054e56-720b-4250-96f5-2d15e51ec292",
   "metadata": {
    "tags": []
   },
   "outputs": [
    {
     "name": "stdout",
     "output_type": "stream",
     "text": [
      "tensor([[0.0419, 0.4291, 0.2660],\n",
      "        [0.3619, 0.6151, 0.2311],\n",
      "        [0.1060, 0.9407, 0.4304],\n",
      "        [0.5925, 0.1019, 0.6672],\n",
      "        [0.5731, 0.1996, 0.9875]])\n"
     ]
    }
   ],
   "source": [
    "#指定输出：\n",
    "result = torch.empty(5,3)\n",
    "torch.add(x,y,out=result)\n",
    "print(result)"
   ]
  },
  {
   "cell_type": "markdown",
   "id": "05c64c50-f278-442b-a705-0af233dbe497",
   "metadata": {},
   "source": [
    "加法形式三、inplace"
   ]
  },
  {
   "cell_type": "code",
   "execution_count": 38,
   "id": "361d1a12-3fc5-4be5-adb6-c48bdb5855b5",
   "metadata": {
    "tags": []
   },
   "outputs": [
    {
     "data": {
      "text/plain": [
       "tensor([[0.1929, 0.7544, 0.1040],\n",
       "        [0.4818, 0.7699, 0.4030],\n",
       "        [0.4992, 0.0424, 0.7787],\n",
       "        [0.5341, 0.4032, 0.1206],\n",
       "        [0.9327, 0.9625, 0.4446]])"
      ]
     },
     "execution_count": 38,
     "metadata": {},
     "output_type": "execute_result"
    }
   ],
   "source": [
    "y.add_(x)"
   ]
  },
  {
   "cell_type": "markdown",
   "id": "1d59081e-4636-4fe7-93d0-ba1eefcde1f8",
   "metadata": {},
   "source": [
    "# 索引"
   ]
  },
  {
   "cell_type": "markdown",
   "id": "91b36278-2b41-473f-85ac-9badf043f943",
   "metadata": {},
   "source": [
    "！！！可以使用索引来访问tensor的一部分\n",
    "注意：索引出来的结果与源数据共享内存，即修改一个，另外一个也会被修改"
   ]
  },
  {
   "cell_type": "code",
   "execution_count": 41,
   "id": "37d73e8d-c4ac-4fe4-b929-64406675ece0",
   "metadata": {
    "tags": []
   },
   "outputs": [
    {
     "name": "stdout",
     "output_type": "stream",
     "text": [
      "tensor([[0.4690, 0.6588, 0.0163],\n",
      "        [0.9910, 0.7227, 0.1732],\n",
      "        [0.4709, 0.5933, 0.7618],\n",
      "        [0.4013, 0.5198, 0.2606],\n",
      "        [0.8867, 0.9374, 0.2577]])\n"
     ]
    }
   ],
   "source": [
    "x=torch.rand(5,3)\n",
    "print(x)"
   ]
  },
  {
   "cell_type": "code",
   "execution_count": 42,
   "id": "7c16f2a2-7014-4b39-abfc-890bf4667973",
   "metadata": {
    "tags": []
   },
   "outputs": [
    {
     "data": {
      "text/plain": [
       "tensor([0.4690, 0.6588, 0.0163])"
      ]
     },
     "execution_count": 42,
     "metadata": {},
     "output_type": "execute_result"
    }
   ],
   "source": [
    "# 获取第一行的所有数据\n",
    "x[0]"
   ]
  },
  {
   "cell_type": "code",
   "execution_count": 47,
   "id": "5f09b98f-e52e-45fa-90e0-9ccf38cb6e48",
   "metadata": {
    "tags": []
   },
   "outputs": [
    {
     "data": {
      "text/plain": [
       "tensor(0.6588)"
      ]
     },
     "execution_count": 47,
     "metadata": {},
     "output_type": "execute_result"
    }
   ],
   "source": [
    "# 逗号后为列号的索引，因为列没有索引所以获得第0行的所有看列\n",
    "x[0,]"
   ]
  },
  {
   "cell_type": "code",
   "execution_count": 52,
   "id": "bcfe8847-48d1-47d9-ba7c-67e6580f6eaa",
   "metadata": {
    "tags": []
   },
   "outputs": [
    {
     "data": {
      "text/plain": [
       "tensor([0.6588])"
      ]
     },
     "execution_count": 52,
     "metadata": {},
     "output_type": "execute_result"
    }
   ],
   "source": [
    "#逗号后为列号索引：进行切片操作，从：前的第几个元素开始到不包含：后的第几个元素\n",
    "x[0,1:2]"
   ]
  },
  {
   "cell_type": "markdown",
   "id": "18a7a48c-996a-4b79-86de-63514fe6fa05",
   "metadata": {},
   "source": [
    "# 获得列数据"
   ]
  },
  {
   "cell_type": "code",
   "execution_count": 53,
   "id": "7ea82cef-2db6-4de2-9f6c-28be4a8cf52f",
   "metadata": {
    "tags": []
   },
   "outputs": [
    {
     "data": {
      "text/plain": [
       "tensor([0.6588, 0.7227, 0.5933, 0.5198, 0.9374])"
      ]
     },
     "execution_count": 53,
     "metadata": {},
     "output_type": "execute_result"
    }
   ],
   "source": [
    "#注意python语法中不允许第一个索引为空，使用：即可获得这一列所有数据\n",
    "#获取第二列数据\n",
    "x[:,1]"
   ]
  },
  {
   "cell_type": "code",
   "execution_count": 55,
   "id": "c89e3319-88d9-44b5-be8c-f6d745118313",
   "metadata": {
    "tags": []
   },
   "outputs": [
    {
     "name": "stdout",
     "output_type": "stream",
     "text": [
      "tensor([[1.4690, 1.6588, 1.0163],\n",
      "        [1.9910, 1.7227, 1.1732],\n",
      "        [1.4709, 1.5933, 1.7618],\n",
      "        [1.4013, 1.5198, 1.2606],\n",
      "        [1.8867, 1.9374, 1.2577]])\n"
     ]
    }
   ],
   "source": [
    "x[1:,1]\n",
    "y = x+1\n",
    "print(y)"
   ]
  },
  {
   "cell_type": "markdown",
   "id": "3d96a123-d16f-4042-ab1d-75072ceee054",
   "metadata": {},
   "source": [
    "# 改变形状"
   ]
  },
  {
   "cell_type": "code",
   "execution_count": 6,
   "id": "32104844-1b37-424c-99c8-5d0db08d8b60",
   "metadata": {},
   "outputs": [
    {
     "name": "stdout",
     "output_type": "stream",
     "text": [
      "tensor([[0.3045, 0.7497],\n",
      "        [0.1472, 0.8742]])\n"
     ]
    }
   ],
   "source": [
    "import torch\n",
    "x = torch.rand(2,2)\n",
    "print(x)"
   ]
  },
  {
   "cell_type": "code",
   "execution_count": 13,
   "id": "c85e4eb4-a9f1-4644-8707-64a87f1b09a4",
   "metadata": {
    "tags": []
   },
   "outputs": [
    {
     "name": "stdout",
     "output_type": "stream",
     "text": [
      "tensor([0.3045, 0.7497, 0.1472, 0.8742])\n",
      "tensor([0.3045, 0.7497, 0.1472, 0.8742])\n"
     ]
    }
   ],
   "source": [
    "# 获得一个一维的tensor,!!维度要相同\n",
    "\n",
    "y = x.view(4)\n",
    "print(y)\n",
    "y= x.view(-1)\n",
    "print(y)"
   ]
  },
  {
   "cell_type": "code",
   "execution_count": 14,
   "id": "e72d8b5c-a4d6-43f4-858c-4ee70a9ce39c",
   "metadata": {
    "tags": []
   },
   "outputs": [
    {
     "name": "stdout",
     "output_type": "stream",
     "text": [
      "tensor([[0.3045, 0.7497, 0.1472, 0.8742]])\n"
     ]
    }
   ],
   "source": [
    "y = x.view(1,4)\n",
    "print(y)"
   ]
  },
  {
   "cell_type": "code",
   "execution_count": 15,
   "id": "95cfc40f-1f3b-4ad6-8227-33f473189a1c",
   "metadata": {
    "tags": []
   },
   "outputs": [
    {
     "name": "stdout",
     "output_type": "stream",
     "text": [
      "tensor([[0.3045, 0.7497],\n",
      "        [0.1472, 0.8742]])\n"
     ]
    }
   ],
   "source": [
    "#-1表示该维度取决于其它维度的大小\n",
    "z = x.view(2,-1)\n",
    "print(z)"
   ]
  },
  {
   "cell_type": "code",
   "execution_count": 1,
   "id": "a68aaad7-2fe0-4764-a5d6-7a76fc220d01",
   "metadata": {
    "tags": []
   },
   "outputs": [],
   "source": [
    "#！！注意view()返回的tensor与原tensor虽然有不同的size，但是也是会共享data\n",
    "#，更改其中的一个，另外一个也会随之改变，view()仅仅改变了观察数据的角度，\n",
    "# 内部数据并未改变\n",
    "# ！！同时注意虽然view返回的tensor与原来的tensor是共享data的\n",
    "#，但依旧是一个全新的tensor，因为tensor包含一些data之外的属性，二者的id并不一致"
   ]
  },
  {
   "cell_type": "code",
   "execution_count": 17,
   "id": "7e5e3cee-5d34-449a-aba5-811a15d962c8",
   "metadata": {
    "tags": []
   },
   "outputs": [
    {
     "name": "stdout",
     "output_type": "stream",
     "text": [
      "tensor([[0.2425, 0.5884, 0.5308],\n",
      "        [0.6920, 0.5309, 0.1933],\n",
      "        [0.9324, 0.0767, 0.0485]])\n"
     ]
    }
   ],
   "source": [
    "x = torch.rand(3,3)\n",
    "print(x)"
   ]
  },
  {
   "cell_type": "code",
   "execution_count": 21,
   "id": "957fc23b-32f8-4272-979e-9ec5b1609898",
   "metadata": {
    "tags": []
   },
   "outputs": [
    {
     "data": {
      "text/plain": [
       "torch.Size([9])"
      ]
     },
     "execution_count": 21,
     "metadata": {},
     "output_type": "execute_result"
    }
   ],
   "source": [
    "y = x.view(-1)\n",
    "y.shape"
   ]
  },
  {
   "cell_type": "code",
   "execution_count": 27,
   "id": "8bf5d5a5-3323-474f-ab8c-c9e4af71bc55",
   "metadata": {
    "tags": []
   },
   "outputs": [
    {
     "name": "stdout",
     "output_type": "stream",
     "text": [
      "tensor([0.2425, 1.5884, 0.5308, 0.6920, 0.5309, 0.1933, 0.9324, 0.0767, 0.0485])\n",
      "tensor([[0.2425, 1.5884, 0.5308],\n",
      "        [0.6920, 0.5309, 0.1933],\n",
      "        [0.9324, 0.0767, 0.0485]])\n"
     ]
    }
   ],
   "source": [
    "y[1]+=1\n",
    "print(y)\n",
    "print(x)"
   ]
  },
  {
   "cell_type": "code",
   "execution_count": 31,
   "id": "f686d738-9b92-4239-81e7-ba74958fec98",
   "metadata": {
    "tags": []
   },
   "outputs": [
    {
     "data": {
      "text/plain": [
       "tensor([[0.2425, 1.5884, 0.5308],\n",
       "        [0.6920, 0.5309, 0.1933],\n",
       "        [0.9324, 0.0767, 0.0485]])"
      ]
     },
     "execution_count": 31,
     "metadata": {},
     "output_type": "execute_result"
    }
   ],
   "source": [
    "# 使用clone()产生一个副本\n",
    "x_cp = x.clone()\n",
    "x_cp"
   ]
  },
  {
   "cell_type": "code",
   "execution_count": 32,
   "id": "28cd4baa-fcf3-499f-846a-e4390af899ba",
   "metadata": {
    "tags": []
   },
   "outputs": [
    {
     "name": "stdout",
     "output_type": "stream",
     "text": [
      "tensor([[0.2425, 1.5884, 0.5308],\n",
      "        [0.6920, 0.5309, 0.1933],\n",
      "        [0.9324, 0.0767, 0.0485]])\n",
      "tensor([[1.2425, 1.5884, 0.5308],\n",
      "        [0.6920, 0.5309, 0.1933],\n",
      "        [0.9324, 0.0767, 0.0485]])\n"
     ]
    }
   ],
   "source": [
    "x_cp[0,0]+=1\n",
    "print(x)\n",
    "print(x_cp)"
   ]
  },
  {
   "cell_type": "code",
   "execution_count": 35,
   "id": "256094c6-5ff6-4509-9185-b4d273f82503",
   "metadata": {
    "tags": []
   },
   "outputs": [
    {
     "name": "stdout",
     "output_type": "stream",
     "text": [
      "tensor([0, 1, 2, 3])\n"
     ]
    }
   ],
   "source": [
    "# arange产生0-3的数据，不包含4torch.arange(start, end, step=1, \n",
    "#dtype=None, layout=torch.strided,\n",
    "#device=None, requires_grad=False) -> Tensor\n",
    "x=torch.arange(4)\n",
    "print(x)"
   ]
  },
  {
   "cell_type": "markdown",
   "id": "5be04cdf-c270-4934-b383-f3bc1f8cbd71",
   "metadata": {
    "tags": []
   },
   "source": [
    "# 广播机制"
   ]
  },
  {
   "cell_type": "code",
   "execution_count": 3,
   "id": "1bae3621-e76e-4118-8cfb-ae2bc06c0959",
   "metadata": {
    "tags": []
   },
   "outputs": [
    {
     "name": "stdout",
     "output_type": "stream",
     "text": [
      "tensor([[1, 2]])\n"
     ]
    }
   ],
   "source": [
    "import torch\n",
    "x = torch.arange(1,3).view(1,2)\n",
    "print(x)"
   ]
  },
  {
   "cell_type": "code",
   "execution_count": 4,
   "id": "47fa3712-ab28-4095-86e9-6e43db0418e2",
   "metadata": {
    "tags": []
   },
   "outputs": [
    {
     "name": "stdout",
     "output_type": "stream",
     "text": [
      "tensor([[1],\n",
      "        [2],\n",
      "        [3]])\n"
     ]
    }
   ],
   "source": [
    "y = torch.arange(1,4).view(3,1)\n",
    "print(y)"
   ]
  },
  {
   "cell_type": "code",
   "execution_count": 5,
   "id": "d8978c0f-a6e4-4c1b-a12a-45f9d5407027",
   "metadata": {
    "tags": []
   },
   "outputs": [
    {
     "name": "stdout",
     "output_type": "stream",
     "text": [
      "tensor([[2, 3],\n",
      "        [3, 4],\n",
      "        [4, 5]])\n"
     ]
    }
   ],
   "source": [
    "# 计算时x的一行二列被广播为3行二列\n",
    "# y被广播为三行，二列\n",
    "print(x+y)"
   ]
  },
  {
   "cell_type": "markdown",
   "id": "76f16443-7fe8-433e-986c-14b2a56ea2d0",
   "metadata": {},
   "source": [
    "# 运算的内存开销"
   ]
  },
  {
   "cell_type": "code",
   "execution_count": 6,
   "id": "80d8157e-79d6-4dcf-a9b4-f013992ee6ea",
   "metadata": {
    "tags": []
   },
   "outputs": [],
   "source": [
    "import torch"
   ]
  },
  {
   "cell_type": "code",
   "execution_count": 7,
   "id": "f6e2ba8d-d97a-40dd-ba84-4633863965ba",
   "metadata": {
    "tags": []
   },
   "outputs": [],
   "source": [
    "#索引操作是不会开辟内存的，但像y= y+x这样的操作是会开辟新内存的，\n",
    "# 然后将y指向新内存，用python自带的id函数，如果两个实例的id一致\n",
    "#，那么他们对应的内存地址相同"
   ]
  },
  {
   "cell_type": "code",
   "execution_count": 8,
   "id": "9748471d-0396-475c-a6f2-11ba8697316e",
   "metadata": {
    "tags": []
   },
   "outputs": [
    {
     "name": "stdout",
     "output_type": "stream",
     "text": [
      "tensor([1, 2])\n"
     ]
    }
   ],
   "source": [
    "x = torch.tensor([1,2])\n",
    "y = torch.tensor([3,4])\n",
    "print(x)"
   ]
  },
  {
   "cell_type": "code",
   "execution_count": 12,
   "id": "e7130582-0c77-450c-a4b0-5a9ac59a5454",
   "metadata": {
    "tags": []
   },
   "outputs": [],
   "source": [
    "id_before = id(y)"
   ]
  },
  {
   "cell_type": "code",
   "execution_count": 13,
   "id": "3540135d-77c7-4880-8b4f-e7c7561ae4ec",
   "metadata": {
    "tags": []
   },
   "outputs": [],
   "source": [
    "y = y+x"
   ]
  },
  {
   "cell_type": "code",
   "execution_count": 14,
   "id": "0625d6a5-62c2-4522-9e30-abe004d54357",
   "metadata": {
    "tags": []
   },
   "outputs": [
    {
     "name": "stdout",
     "output_type": "stream",
     "text": [
      "False\n"
     ]
    }
   ],
   "source": [
    "print(id(y)==id_before)"
   ]
  },
  {
   "cell_type": "code",
   "execution_count": 4,
   "id": "fbe91604-c083-4081-89b5-1c2b83e11157",
   "metadata": {},
   "outputs": [
    {
     "name": "stdout",
     "output_type": "stream",
     "text": [
      "tensor([[1, 2],\n",
      "        [3, 4]])\n"
     ]
    }
   ],
   "source": [
    "#如果想指定结果到原来的y内存，可以使用索引来进行替换操作，如把x+y的结果通过[:]\n",
    "#写进y对应的内存中\n",
    "import torch\n",
    "x =torch.tensor([[1,2],[3,4]])\n",
    "print(x)\n"
   ]
  },
  {
   "cell_type": "code",
   "execution_count": 5,
   "id": "215c3c5a-7731-47b0-a8ca-cfb60fdefa8e",
   "metadata": {
    "tags": []
   },
   "outputs": [
    {
     "name": "stdout",
     "output_type": "stream",
     "text": [
      "tensor([[0., 0.],\n",
      "        [0., 0.]])\n"
     ]
    }
   ],
   "source": [
    "y = torch.zeros(2,2)\n",
    "print(y)"
   ]
  },
  {
   "cell_type": "code",
   "execution_count": 9,
   "id": "f8f090fa-2871-4f9e-baba-97ed3a84b2a8",
   "metadata": {
    "tags": []
   },
   "outputs": [
    {
     "name": "stdout",
     "output_type": "stream",
     "text": [
      "tensor([[ 4.,  8.],\n",
      "        [12., 16.]])\n",
      "yes\n"
     ]
    }
   ],
   "source": [
    "id1 = id(y)\n",
    "y[:,:] = y+x\n",
    "print(y)\n",
    "if id1 == id(y):\n",
    "    print('yes')"
   ]
  },
  {
   "cell_type": "code",
   "execution_count": 10,
   "id": "3ba0f120-f601-42e8-b9d1-5dcb54cec7a5",
   "metadata": {
    "tags": []
   },
   "outputs": [],
   "source": [
    "#还可以通过运算符全名函数中的out参数或者自加运算符+=达到相同结果\n",
    "# torch.add(x,y,out=y)\n",
    "#y+=x"
   ]
  },
  {
   "cell_type": "markdown",
   "id": "c0287ab4-72b5-48bf-b7ff-abcda3f552f3",
   "metadata": {},
   "source": [
    "# numpy和tensor的转换"
   ]
  },
  {
   "cell_type": "code",
   "execution_count": 13,
   "id": "3cf81645-f33b-4257-a0bb-d2a81427c0ec",
   "metadata": {
    "tags": []
   },
   "outputs": [
    {
     "name": "stdout",
     "output_type": "stream",
     "text": [
      "tensor([1., 1., 1., 1., 1.]) [1. 1. 1. 1. 1.]\n",
      "tensor([2., 2., 2., 2., 2.]) [2. 2. 2. 2. 2.]\n",
      "tensor([3., 3., 3., 3., 3.]) [3. 3. 3. 3. 3.]\n"
     ]
    }
   ],
   "source": [
    "# tensor转换成numpy\n",
    "a = torch.ones(5)\n",
    "b= a.numpy()\n",
    "print(a,b)\n",
    "a+=1\n",
    "print(a,b)\n",
    "b+=1\n",
    "print(a,b)\n",
    "#!!使用numpy()转换后numpy数组和tensor共享内存"
   ]
  },
  {
   "cell_type": "code",
   "execution_count": 17,
   "id": "f3816f37-9737-45db-bb12-b6b1cf922058",
   "metadata": {
    "tags": []
   },
   "outputs": [
    {
     "name": "stdout",
     "output_type": "stream",
     "text": [
      "[1. 1. 1. 1. 1.] tensor([1., 1., 1., 1., 1.], dtype=torch.float64)\n",
      "[2. 2. 2. 2. 2.] tensor([2., 2., 2., 2., 2.], dtype=torch.float64)\n",
      "[3. 3. 3. 3. 3.] tensor([3., 3., 3., 3., 3.], dtype=torch.float64)\n"
     ]
    }
   ],
   "source": [
    "# numpy数组转换成tensor\n",
    "import numpy as np\n",
    "a = np.ones(5)\n",
    "b = torch.from_numpy(a)\n",
    "print(a,b)\n",
    "a += 1\n",
    "print(a, b)\n",
    "b += 1\n",
    "print(a, b)"
   ]
  },
  {
   "cell_type": "code",
   "execution_count": 18,
   "id": "c95df12a-458b-4c87-a795-3f81b658ecbe",
   "metadata": {
    "tags": []
   },
   "outputs": [
    {
     "name": "stdout",
     "output_type": "stream",
     "text": [
      "[4. 4. 4. 4. 4.] tensor([3., 3., 3., 3., 3.], dtype=torch.float64)\n"
     ]
    }
   ],
   "source": [
    "#此外上面提到还有一个常用的方法就是直接用torch.tensor()\n",
    "#将NumPy数组转换成Tensor，需要注意的是该方法总是会进行数据拷贝，\n",
    "#返回的Tensor和原来的数据不再共享内存。\n",
    "c = torch.tensor(a)\n",
    "a+=1\n",
    "print(a,c)"
   ]
  },
  {
   "cell_type": "code",
   "execution_count": 19,
   "id": "913b1e56-f56a-44b4-874b-bf51cad37ec0",
   "metadata": {
    "tags": []
   },
   "outputs": [
    {
     "name": "stdout",
     "output_type": "stream",
     "text": [
      "tensor([[2, 3],\n",
      "        [4, 5]], device='cuda:0')\n",
      "tensor([[2., 3.],\n",
      "        [4., 5.]], dtype=torch.float64)\n"
     ]
    }
   ],
   "source": [
    "# 以下代码只有在PyTorch GPU版本上才会执行\n",
    "if torch.cuda.is_available():\n",
    "    device = torch.device(\"cuda\")          # GPU\n",
    "    y = torch.ones_like(x, device=device)  # 直接创建一个在GPU上的Tensor\n",
    "    x = x.to(device)                       # 等价于 .to(\"cuda\")\n",
    "    z = x + y\n",
    "    print(z)\n",
    "    print(z.to(\"cpu\", torch.double))       # to()还可以同时更改数据类型\n"
   ]
  },
  {
   "cell_type": "code",
   "execution_count": 8,
   "id": "e40aacc8-a359-454c-99de-5fcf78146e8c",
   "metadata": {},
   "outputs": [],
   "source": [
    "import torch\n",
    "X = torch.arange(12, dtype=torch.float32).reshape((3,4))\n",
    "Y = torch.tensor([[2.0, 1, 4, 3], [1, 2, 3, 4], [4, 3, 2, 1]])"
   ]
  },
  {
   "cell_type": "code",
   "execution_count": 10,
   "id": "f904121b-1403-4255-9a7b-c83d84429531",
   "metadata": {
    "tags": []
   },
   "outputs": [
    {
     "name": "stdout",
     "output_type": "stream",
     "text": [
      "tensor([[ 0.,  1.,  2.,  3.],\n",
      "        [ 4.,  5.,  6.,  7.],\n",
      "        [ 8.,  9., 10., 11.]])\n",
      "tensor([[2., 1., 4., 3.],\n",
      "        [1., 2., 3., 4.],\n",
      "        [4., 3., 2., 1.]])\n"
     ]
    }
   ],
   "source": [
    "print(X)\n",
    "print(Y)"
   ]
  },
  {
   "cell_type": "code",
   "execution_count": 15,
   "id": "89f671db-a3bd-45e3-a30a-c476bd04c37c",
   "metadata": {
    "tags": []
   },
   "outputs": [
    {
     "name": "stdout",
     "output_type": "stream",
     "text": [
      "tensor([[ 0.,  1.,  2.,  3.],\n",
      "        [ 4.,  5.,  6.,  7.],\n",
      "        [ 8.,  9., 10., 11.],\n",
      "        [ 2.,  1.,  4.,  3.],\n",
      "        [ 1.,  2.,  3.,  4.],\n",
      "        [ 4.,  3.,  2.,  1.]])\n"
     ]
    }
   ],
   "source": [
    "# 对两个张量按行进行连接\n",
    "tem = torch.cat((X,Y),dim = 0)\n",
    "print(tem)"
   ]
  },
  {
   "cell_type": "code",
   "execution_count": 16,
   "id": "18ae429a-96b0-4595-8d1f-a35b9eebdb2c",
   "metadata": {
    "tags": []
   },
   "outputs": [
    {
     "name": "stdout",
     "output_type": "stream",
     "text": [
      "tensor([[ 0.,  1.,  2.,  3.,  2.,  1.,  4.,  3.],\n",
      "        [ 4.,  5.,  6.,  7.,  1.,  2.,  3.,  4.],\n",
      "        [ 8.,  9., 10., 11.,  4.,  3.,  2.,  1.]])\n"
     ]
    }
   ],
   "source": [
    "tem = torch.cat((X,Y),dim = 1)\n",
    "print(tem)"
   ]
  },
  {
   "cell_type": "code",
   "execution_count": 17,
   "id": "7f58791b-cd8f-41c4-980e-e333c9768d6b",
   "metadata": {
    "tags": []
   },
   "outputs": [
    {
     "data": {
      "text/plain": [
       "tensor([[False,  True, False,  True],\n",
       "        [False, False, False, False],\n",
       "        [False, False, False, False]])"
      ]
     },
     "execution_count": 17,
     "metadata": {},
     "output_type": "execute_result"
    }
   ],
   "source": [
    "# 对应位置是否相等\n",
    "X==Y"
   ]
  },
  {
   "cell_type": "code",
   "execution_count": 18,
   "id": "5c3ca9d0-8d25-4eb3-99f1-152f5f82877b",
   "metadata": {
    "tags": []
   },
   "outputs": [
    {
     "data": {
      "text/plain": [
       "tensor(66.)"
      ]
     },
     "execution_count": 18,
     "metadata": {},
     "output_type": "execute_result"
    }
   ],
   "source": [
    "# 对所有的张量进行求和，得到一个新的张量\n",
    "X.sum()"
   ]
  },
  {
   "cell_type": "code",
   "execution_count": 22,
   "id": "a041511f-f1be-4bf7-ad21-d1bf14f6667f",
   "metadata": {
    "tags": []
   },
   "outputs": [],
   "source": [
    "X = torch.arange(12).reshape(3,4)"
   ]
  },
  {
   "cell_type": "code",
   "execution_count": 23,
   "id": "6f64989e-20e4-4e6c-b1ff-f94cca4e3903",
   "metadata": {
    "tags": []
   },
   "outputs": [],
   "source": [
    "Y = torch.zeros(3,4)"
   ]
  },
  {
   "cell_type": "code",
   "execution_count": 24,
   "id": "4ef7fd42-e319-4ce4-a15e-35d0729b6ced",
   "metadata": {
    "tags": []
   },
   "outputs": [
    {
     "data": {
      "text/plain": [
       "tensor([[ True, False, False, False],\n",
       "        [False, False, False, False],\n",
       "        [False, False, False, False]])"
      ]
     },
     "execution_count": 24,
     "metadata": {},
     "output_type": "execute_result"
    }
   ],
   "source": [
    "X == Y"
   ]
  },
  {
   "cell_type": "code",
   "execution_count": 25,
   "id": "00183f99-966d-4a68-acf9-73809b0a4955",
   "metadata": {
    "tags": []
   },
   "outputs": [
    {
     "data": {
      "text/plain": [
       "tensor([[False, False, False, False],\n",
       "        [False, False, False, False],\n",
       "        [False, False, False, False]])"
      ]
     },
     "execution_count": 25,
     "metadata": {},
     "output_type": "execute_result"
    }
   ],
   "source": [
    "X<Y"
   ]
  },
  {
   "cell_type": "code",
   "execution_count": 26,
   "id": "5e3aadbf-adbf-412c-87fb-2ff82a3f020e",
   "metadata": {
    "tags": []
   },
   "outputs": [
    {
     "data": {
      "text/plain": [
       "tensor([[False,  True,  True,  True],\n",
       "        [ True,  True,  True,  True],\n",
       "        [ True,  True,  True,  True]])"
      ]
     },
     "execution_count": 26,
     "metadata": {},
     "output_type": "execute_result"
    }
   ],
   "source": [
    "X>Y"
   ]
  },
  {
   "cell_type": "code",
   "execution_count": 28,
   "id": "9df8f0f5-50ee-44ac-858c-17dfdec612db",
   "metadata": {
    "tags": []
   },
   "outputs": [
    {
     "name": "stdout",
     "output_type": "stream",
     "text": [
      "tensor([[[0, 1],\n",
      "         [2, 3]],\n",
      "\n",
      "        [[4, 5],\n",
      "         [6, 7]]])\n"
     ]
    }
   ],
   "source": [
    "Z = torch.arange(8).reshape(2,2,2)\n",
    "print(Z)"
   ]
  },
  {
   "cell_type": "code",
   "execution_count": 46,
   "id": "50cde8a3-e3e1-490d-8aa7-ea100d275dc9",
   "metadata": {
    "tags": []
   },
   "outputs": [],
   "source": [
    "a = torch.arange(4).reshape(2,2,1)"
   ]
  },
  {
   "cell_type": "code",
   "execution_count": 47,
   "id": "a5e982bf-2f3e-492d-bf39-40fc56590fd5",
   "metadata": {
    "tags": []
   },
   "outputs": [
    {
     "name": "stdout",
     "output_type": "stream",
     "text": [
      "tensor([[[0],\n",
      "         [1]],\n",
      "\n",
      "        [[2],\n",
      "         [3]]])\n"
     ]
    }
   ],
   "source": [
    "print(a)"
   ]
  },
  {
   "cell_type": "code",
   "execution_count": 48,
   "id": "dbc47290-0eef-418b-9318-e142f4f62f23",
   "metadata": {
    "tags": []
   },
   "outputs": [
    {
     "data": {
      "text/plain": [
       "tensor([[[ 0,  1],\n",
       "         [ 3,  4]],\n",
       "\n",
       "        [[ 6,  7],\n",
       "         [ 9, 10]]])"
      ]
     },
     "execution_count": 48,
     "metadata": {},
     "output_type": "execute_result"
    }
   ],
   "source": [
    "a + Z"
   ]
  },
  {
   "cell_type": "markdown",
   "id": "49bcb62b-914e-40e2-9151-f4e4fbe349f0",
   "metadata": {},
   "source": [
    "# 数据预处理"
   ]
  },
  {
   "cell_type": "code",
   "execution_count": 1,
   "id": "7a93c7f7-4e99-43b9-9fca-a8e8d2e4ebd0",
   "metadata": {
    "tags": []
   },
   "outputs": [],
   "source": [
    "#写入csv数据\n",
    "import os\n",
    "\n",
    "os.makedirs(os.path.join('.', 'data'), exist_ok=True)\n",
    "data_file = os.path.join('.', 'data', 'house_tiny.csv')\n",
    "with open(data_file, 'w') as f:\n",
    "    f.write('NumRooms,Alley,Price\\n')  # 列名\n",
    "    f.write('NA,Pave,127500\\n')  # 每行表示一个数据样本\n",
    "    f.write('2,NA,106000\\n')\n",
    "    f.write('4,NA,178100\\n')\n",
    "    f.write('NA,NA,140000\\n')"
   ]
  },
  {
   "cell_type": "code",
   "execution_count": 2,
   "id": "4175f393-59b2-4734-83bb-a7c9133f8f04",
   "metadata": {
    "tags": []
   },
   "outputs": [],
   "source": [
    "import pandas as pd"
   ]
  },
  {
   "cell_type": "code",
   "execution_count": 3,
   "id": "587e7e09-8117-4b7b-8e85-428a1952d440",
   "metadata": {
    "tags": []
   },
   "outputs": [
    {
     "name": "stdout",
     "output_type": "stream",
     "text": [
      "   NumRooms Alley   Price\n",
      "0       NaN  Pave  127500\n",
      "1       2.0   NaN  106000\n",
      "2       4.0   NaN  178100\n",
      "3       NaN   NaN  140000\n"
     ]
    }
   ],
   "source": [
    "#利用pandas读取数据\n",
    "data = pd.read_csv(data_file)\n",
    "print(data)"
   ]
  },
  {
   "cell_type": "code",
   "execution_count": 6,
   "id": "316bc71d-cb3e-446b-919a-87b63d594274",
   "metadata": {
    "tags": []
   },
   "outputs": [
    {
     "name": "stdout",
     "output_type": "stream",
     "text": [
      "   NumRooms Alley\n",
      "0       3.0  Pave\n",
      "1       2.0   NaN\n",
      "2       4.0   NaN\n",
      "3       3.0   NaN\n"
     ]
    }
   ],
   "source": [
    "# 处理缺失项 data.iloc[行切片row_indices, 列切片column_indices]\n",
    "inputs,outputs = data.iloc[:,0:2],data.iloc[:,2]\n",
    "inputs['NumRooms'].fillna(inputs['NumRooms'].mean(),inplace=True)\n",
    "print(inputs)\n"
   ]
  },
  {
   "cell_type": "code",
   "execution_count": 5,
   "id": "5b18ae4f-7ddc-4d1c-b4d7-9c49eb0ad5db",
   "metadata": {
    "tags": []
   },
   "outputs": [
    {
     "name": "stdout",
     "output_type": "stream",
     "text": [
      "   NumRooms  Alley_Pave  Alley_nan\n",
      "0       3.0        True      False\n",
      "1       2.0       False       True\n",
      "2       4.0       False       True\n",
      "3       3.0       False       True\n"
     ]
    }
   ],
   "source": [
    "inputs = pd.get_dummies(inputs, dummy_na=True)\n",
    "print(inputs)"
   ]
  },
  {
   "cell_type": "code",
   "execution_count": 79,
   "id": "91f90005-1bbe-44b4-ac45-e79923834241",
   "metadata": {
    "tags": []
   },
   "outputs": [],
   "source": [
    "import torch\n",
    "x = torch.tensor(inputs.to_numpy(dtype = float))\n",
    "y = torch.tensor(outputs.to_numpy(dtype = float))"
   ]
  },
  {
   "cell_type": "code",
   "execution_count": 80,
   "id": "a3211f77-ce4c-4e77-bd5c-d6326bf9f98f",
   "metadata": {
    "tags": []
   },
   "outputs": [
    {
     "name": "stdout",
     "output_type": "stream",
     "text": [
      "tensor([[3., 1., 0.],\n",
      "        [2., 0., 1.],\n",
      "        [4., 0., 1.],\n",
      "        [3., 0., 1.]], dtype=torch.float64)\n",
      "tensor([127500., 106000., 178100., 140000.], dtype=torch.float64)\n"
     ]
    }
   ],
   "source": [
    "print(x)\n",
    "print(y)"
   ]
  },
  {
   "cell_type": "markdown",
   "id": "4d915402-31b7-4a8d-8fc8-4537515af6d0",
   "metadata": {},
   "source": [
    "# 线性代数"
   ]
  },
  {
   "cell_type": "code",
   "execution_count": 19,
   "id": "3d15b3b4-8f55-4324-be02-e28e6967c1c9",
   "metadata": {
    "tags": []
   },
   "outputs": [],
   "source": [
    "import torch\n",
    "a = torch.arange(20).reshape(4,5)"
   ]
  },
  {
   "cell_type": "code",
   "execution_count": 21,
   "id": "0e8b8c15-7411-4b68-b470-826ea6602269",
   "metadata": {
    "tags": []
   },
   "outputs": [
    {
     "name": "stdout",
     "output_type": "stream",
     "text": [
      "tensor([[ 0,  1,  2,  3,  4],\n",
      "        [ 5,  6,  7,  8,  9],\n",
      "        [10, 11, 12, 13, 14],\n",
      "        [15, 16, 17, 18, 19]])\n",
      "tensor([[ 0,  5, 10, 15],\n",
      "        [ 1,  6, 11, 16],\n",
      "        [ 2,  7, 12, 17],\n",
      "        [ 3,  8, 13, 18],\n",
      "        [ 4,  9, 14, 19]])\n"
     ]
    }
   ],
   "source": [
    "# 矩阵和矩阵的转置\n",
    "print(a)\n",
    "print(a.T)"
   ]
  },
  {
   "cell_type": "markdown",
   "id": "8af2abd2-9517-4608-a7b0-42e15c1ffb37",
   "metadata": {},
   "source": [
    "## 张量"
   ]
  },
  {
   "cell_type": "code",
   "execution_count": 23,
   "id": "fc1f10c6-ec43-4e1b-b8b4-0bdb490d3f8b",
   "metadata": {
    "tags": []
   },
   "outputs": [
    {
     "name": "stdout",
     "output_type": "stream",
     "text": [
      "tensor([[ 0.,  1.,  2.,  3.],\n",
      "        [ 4.,  5.,  6.,  7.],\n",
      "        [ 8.,  9., 10., 11.],\n",
      "        [12., 13., 14., 15.],\n",
      "        [16., 17., 18., 19.]])\n"
     ]
    }
   ],
   "source": [
    "# 向量是一阶张量\n",
    "# 矩阵是二阶张量\n",
    "A = torch.arange(20, dtype=torch.float32).reshape(5, 4)\n",
    "print(A)"
   ]
  },
  {
   "cell_type": "code",
   "execution_count": 29,
   "id": "5f269d5e-b966-4099-9e21-aabcbb561b53",
   "metadata": {
    "tags": []
   },
   "outputs": [
    {
     "data": {
      "text/plain": [
       "tensor(190.)"
      ]
     },
     "execution_count": 29,
     "metadata": {},
     "output_type": "execute_result"
    }
   ],
   "source": [
    "# 求和函数的使用 A.sum(axis = 0) 按行降维 1按列\n",
    "# A.sum(axis=[0, 1])  # 结果和A.sum()相同\n",
    "A.sum()"
   ]
  },
  {
   "cell_type": "code",
   "execution_count": 30,
   "id": "139875de-ddd4-430e-9a35-eadc8b199e4c",
   "metadata": {
    "tags": []
   },
   "outputs": [
    {
     "data": {
      "text/plain": [
       "tensor(9.5000)"
      ]
     },
     "execution_count": 30,
     "metadata": {},
     "output_type": "execute_result"
    }
   ],
   "source": [
    "# 计算平均值\n",
    "A.mean()# 直接求平均值\n",
    "A.sum()/A.numel()#和除以元素个数"
   ]
  },
  {
   "cell_type": "code",
   "execution_count": 31,
   "id": "e9148db9-d460-4be4-b5ba-e34096cf7560",
   "metadata": {
    "tags": []
   },
   "outputs": [
    {
     "data": {
      "text/plain": [
       "(tensor([ 8.,  9., 10., 11.]), tensor([ 8.,  9., 10., 11.]))"
      ]
     },
     "execution_count": 31,
     "metadata": {},
     "output_type": "execute_result"
    }
   ],
   "source": [
    "#同样，计算平均值的函数也可以沿指定轴降低张量的维度\n",
    "A.mean(axis=0), A.sum(axis=0) / A.shape[0]"
   ]
  },
  {
   "cell_type": "code",
   "execution_count": 34,
   "id": "b8682ffd-b7ec-492f-92bd-a24634813b51",
   "metadata": {
    "tags": []
   },
   "outputs": [
    {
     "data": {
      "text/plain": [
       "tensor([[ 6.],\n",
       "        [22.],\n",
       "        [38.],\n",
       "        [54.],\n",
       "        [70.]])"
      ]
     },
     "execution_count": 34,
     "metadata": {},
     "output_type": "execute_result"
    }
   ],
   "source": [
    "# keeppdims表示轴数不变\n",
    "sum_A = A.sum(axis=1, keepdims=True)\n",
    "sum_A"
   ]
  },
  {
   "cell_type": "code",
   "execution_count": 35,
   "id": "b5b4926c-9b32-40f5-9dc4-c9ed579a3914",
   "metadata": {
    "tags": []
   },
   "outputs": [
    {
     "data": {
      "text/plain": [
       "tensor([[ 0.,  1.,  2.,  3.],\n",
       "        [ 4.,  6.,  8., 10.],\n",
       "        [12., 15., 18., 21.],\n",
       "        [24., 28., 32., 36.],\n",
       "        [40., 45., 50., 55.]])"
      ]
     },
     "execution_count": 35,
     "metadata": {},
     "output_type": "execute_result"
    }
   ],
   "source": [
    "# 对行进行累计和\n",
    "A.cumsum(axis=0)"
   ]
  },
  {
   "cell_type": "code",
   "execution_count": 38,
   "id": "227ce40b-2de5-4a93-bdd0-581595f09608",
   "metadata": {
    "tags": []
   },
   "outputs": [
    {
     "data": {
      "text/plain": [
       "tensor(6.)"
      ]
     },
     "execution_count": 38,
     "metadata": {},
     "output_type": "execute_result"
    }
   ],
   "source": [
    "# 元素的点积 对应位置相乘 a1*b1+a2*b2+a3*b3\n",
    "import torch\n",
    "y = torch.ones(4,dtype= torch.float32)\n",
    "x = torch.arange(4,dtype = torch.float32)\n",
    "torch.dot(x,y)"
   ]
  },
  {
   "cell_type": "code",
   "execution_count": 39,
   "id": "de15b1f0-f90c-42bf-86c3-3f84ea17efff",
   "metadata": {
    "tags": []
   },
   "outputs": [
    {
     "data": {
      "text/plain": [
       "tensor([ 14.,  38.,  62.,  86., 110.])"
      ]
     },
     "execution_count": 39,
     "metadata": {},
     "output_type": "execute_result"
    }
   ],
   "source": [
    "torch.mv(A,x)"
   ]
  },
  {
   "cell_type": "code",
   "execution_count": 40,
   "id": "6d1db06b-ee19-47bc-9520-bf823cc98584",
   "metadata": {
    "tags": []
   },
   "outputs": [
    {
     "name": "stdout",
     "output_type": "stream",
     "text": [
      "tensor([[ 0.,  1.,  2.,  3.],\n",
      "        [ 4.,  5.,  6.,  7.],\n",
      "        [ 8.,  9., 10., 11.],\n",
      "        [12., 13., 14., 15.],\n",
      "        [16., 17., 18., 19.]])\n"
     ]
    }
   ],
   "source": [
    "print(A)"
   ]
  },
  {
   "cell_type": "code",
   "execution_count": 41,
   "id": "6b43be72-8b2b-4e3f-99bc-4db43d54e564",
   "metadata": {
    "tags": []
   },
   "outputs": [
    {
     "data": {
      "text/plain": [
       "tensor([[ 6.,  6.,  6.],\n",
       "        [22., 22., 22.],\n",
       "        [38., 38., 38.],\n",
       "        [54., 54., 54.],\n",
       "        [70., 70., 70.]])"
      ]
     },
     "execution_count": 41,
     "metadata": {},
     "output_type": "execute_result"
    }
   ],
   "source": [
    "B=torch.ones(4,3)\n",
    "torch.mm(A,B)"
   ]
  },
  {
   "cell_type": "markdown",
   "id": "7081a56a-2c0f-4b67-9223-2075f2aa7ca0",
   "metadata": {},
   "source": [
    "## 范数"
   ]
  },
  {
   "cell_type": "code",
   "execution_count": 42,
   "id": "b4b31c50-0ad5-460c-b002-d1126012a51f",
   "metadata": {
    "tags": []
   },
   "outputs": [],
   "source": [
    "# 向量范数是将向量映射到标量的函数f\n",
    "# 性质一：如果我们按常数因子缩放所有元素，\n",
    "# 其范数也会按相同的常数因子的绝对值缩放 f(ax)=|a|f(x)"
   ]
  },
  {
   "cell_type": "code",
   "execution_count": 43,
   "id": "c5f43bc6-e005-4ade-a649-e5e17992c6a4",
   "metadata": {
    "tags": []
   },
   "outputs": [],
   "source": [
    "# 性质二：满足三角不等式\n",
    "# f(x+ y)<=f(x)+f(y)"
   ]
  },
  {
   "cell_type": "code",
   "execution_count": 44,
   "id": "3f76fa1b-ef01-47ec-a9d2-4eabdf5b7628",
   "metadata": {
    "tags": []
   },
   "outputs": [],
   "source": [
    "# 性质三：范数大于等于0\n",
    "#性质四：范数最小为0，当且仅当向量全由0组成"
   ]
  },
  {
   "cell_type": "code",
   "execution_count": 47,
   "id": "7f0aa25b-759b-451f-a581-f45fc669e67b",
   "metadata": {
    "tags": []
   },
   "outputs": [
    {
     "name": "stdout",
     "output_type": "stream",
     "text": [
      "tensor(5.)\n",
      "tensor(7.)\n"
     ]
    }
   ],
   "source": [
    "#L2范数\n",
    "#向量中的所有元素的平方和再开平方\n",
    "u = torch.tensor([3.0,-4.0])\n",
    "print(torch.norm(u))\n",
    "# L1范数\n",
    "# 向量中元素的绝对值之和\n",
    "print(torch.abs(u).sum())"
   ]
  },
  {
   "cell_type": "code",
   "execution_count": 49,
   "id": "a25f87cd-5983-4405-acc7-21a314c1d6b7",
   "metadata": {
    "tags": []
   },
   "outputs": [
    {
     "data": {
      "text/plain": [
       "tensor(6.)"
      ]
     },
     "execution_count": 49,
     "metadata": {},
     "output_type": "execute_result"
    }
   ],
   "source": [
    "# 矩阵的L2范数\n",
    "torch.norm(torch.ones((4, 9)))"
   ]
  },
  {
   "cell_type": "markdown",
   "id": "e9fc61b6-64e8-4299-934a-6777a395e00a",
   "metadata": {},
   "source": [
    "# 微积分"
   ]
  },
  {
   "cell_type": "code",
   "execution_count": 53,
   "id": "39764b63-eeb9-4baa-a4e3-cdf7eb7ae320",
   "metadata": {
    "tags": []
   },
   "outputs": [
    {
     "name": "stdout",
     "output_type": "stream",
     "text": [
      "h=0.10000, numerical limit=2.30000\n",
      "h=0.01000, numerical limit=2.03000\n",
      "h=0.00100, numerical limit=2.00300\n",
      "h=0.00010, numerical limit=2.00030\n",
      "h=0.00001, numerical limit=2.00003\n"
     ]
    }
   ],
   "source": [
    "%matplotlib inline\n",
    "import numpy as np\n",
    "from matplotlib_inline import backend_inline\n",
    "from d2l import torch as d2l\n",
    "\n",
    "\n",
    "def f(x):\n",
    "    return 3 * x ** 2 - 4 * x\n",
    "def numerical_lim(f, x, h):\n",
    "    return (f(x + h) - f(x)) / h\n",
    "\n",
    "h = 0.1\n",
    "for i in range(5):\n",
    "    print(f'h={h:.5f}, numerical limit={numerical_lim(f, 1, h):.5f}')\n",
    "    h *= 0.1"
   ]
  },
  {
   "cell_type": "markdown",
   "id": "fec0bf65-4c4d-4e11-98f4-24d9f3d37f7d",
   "metadata": {},
   "source": [
    "# 自动微分"
   ]
  },
  {
   "cell_type": "code",
   "execution_count": 30,
   "id": "f9a2ac2d-e8b8-47a9-8bb6-ef05eae528ec",
   "metadata": {
    "tags": []
   },
   "outputs": [],
   "source": [
    "import torch"
   ]
  },
  {
   "cell_type": "code",
   "execution_count": 31,
   "id": "bb4147c1-0d82-4e3d-85c9-8775d5ddf082",
   "metadata": {
    "tags": []
   },
   "outputs": [
    {
     "name": "stdout",
     "output_type": "stream",
     "text": [
      "None\n"
     ]
    }
   ],
   "source": [
    "x = torch.arange(4.0,requires_grad=True)\n",
    "print(x.grad)"
   ]
  },
  {
   "cell_type": "code",
   "execution_count": 32,
   "id": "12966e59-065e-44fc-a7b4-fb8eed308781",
   "metadata": {
    "tags": []
   },
   "outputs": [
    {
     "data": {
      "text/plain": [
       "tensor(28., grad_fn=<MulBackward0>)"
      ]
     },
     "execution_count": 32,
     "metadata": {},
     "output_type": "execute_result"
    }
   ],
   "source": [
    "y = 2*torch.dot(x,x)\n",
    "y"
   ]
  },
  {
   "cell_type": "code",
   "execution_count": null,
   "id": "c36f177d-da72-4277-bbb7-4f3d073cf072",
   "metadata": {
    "tags": []
   },
   "outputs": [],
   "source": []
  },
  {
   "cell_type": "code",
   "execution_count": 33,
   "id": "ec7e96dc-8669-42e0-a809-07fe44e14963",
   "metadata": {
    "tags": []
   },
   "outputs": [],
   "source": [
    "x.grad"
   ]
  },
  {
   "cell_type": "code",
   "execution_count": 34,
   "id": "060a7e97-6a5c-4553-8109-1376316fb60a",
   "metadata": {
    "tags": []
   },
   "outputs": [
    {
     "data": {
      "text/plain": [
       "tensor([2., 2., 2., 2.])"
      ]
     },
     "execution_count": 34,
     "metadata": {},
     "output_type": "execute_result"
    }
   ],
   "source": [
    "y = x.sum()\n",
    "y.backward()\n",
    "y.backward()\n",
    "x.grad"
   ]
  },
  {
   "cell_type": "code",
   "execution_count": 25,
   "id": "c10759b7-ca9d-4d6e-bb80-1e4cd8b7f42d",
   "metadata": {
    "tags": []
   },
   "outputs": [
    {
     "data": {
      "text/plain": [
       "tensor(True)"
      ]
     },
     "execution_count": 25,
     "metadata": {},
     "output_type": "execute_result"
    }
   ],
   "source": [
    "def f(a):\n",
    "    b = a * 2\n",
    "    while b.norm() < 1000:\n",
    "        b = b * 2\n",
    "    if b.sum() > 0:\n",
    "        c = b\n",
    "    else:\n",
    "        c = 100 * b\n",
    "    return c\n",
    "a = torch.randn(size=(), requires_grad=True)\n",
    "d = f(a)\n",
    "d.backward()\n",
    "a.grad == d/a"
   ]
  },
  {
   "cell_type": "code",
   "execution_count": null,
   "id": "b8befc0d-8ea4-4e69-a0b7-6c5491e8ee30",
   "metadata": {},
   "outputs": [],
   "source": []
  }
 ],
 "metadata": {
  "kernelspec": {
   "display_name": "dl",
   "language": "python",
   "name": "dl"
  },
  "language_info": {
   "codemirror_mode": {
    "name": "ipython",
    "version": 3
   },
   "file_extension": ".py",
   "mimetype": "text/x-python",
   "name": "python",
   "nbconvert_exporter": "python",
   "pygments_lexer": "ipython3",
   "version": "3.8.18"
  }
 },
 "nbformat": 4,
 "nbformat_minor": 5
}
